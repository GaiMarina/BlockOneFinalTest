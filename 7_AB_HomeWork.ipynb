{
  "nbformat": 4,
  "nbformat_minor": 0,
  "metadata": {
    "colab": {
      "provenance": [],
      "authorship_tag": "ABX9TyNk8UbhSt5j9WFAIHgK7xvz",
      "include_colab_link": true
    },
    "kernelspec": {
      "name": "python3",
      "display_name": "Python 3"
    },
    "language_info": {
      "name": "python"
    }
  },
  "cells": [
    {
      "cell_type": "markdown",
      "metadata": {
        "id": "view-in-github",
        "colab_type": "text"
      },
      "source": [
        "<a href=\"https://colab.research.google.com/github/GaiMarina/BlockOneFinalTest/blob/main/7_AB_HomeWork.ipynb\" target=\"_parent\"><img src=\"https://colab.research.google.com/assets/colab-badge.svg\" alt=\"Open In Colab\"/></a>"
      ]
    },
    {
      "cell_type": "markdown",
      "source": [
        "---\n",
        "\n",
        "На основе выбранных продуктов из первого вебинара, выберите 2 A/B-теста и составьте план эксперимента, чтобы избежать Peeking Problem\n",
        "\n",
        "Распишите, какие метрики и как вы будете анализировать\n",
        "\n",
        "---"
      ],
      "metadata": {
        "id": "Y4SzUYIN6WDC"
      }
    },
    {
      "cell_type": "code",
      "source": [
        "from statsmodels.stats.power import tt_ind_solve_power, zt_ind_solve_power\n",
        "from statsmodels.stats.proportion import proportion_effectsize\n",
        "from statsmodels.stats.meta_analysis import effectsize_smd\n",
        "from typing import Union\n",
        "import plotly.graph_objects as go\n",
        "from scipy import stats\n",
        "from math import asin \n",
        "import numpy as np\n",
        "import pandas as pd"
      ],
      "metadata": {
        "id": "od6TRitj_lFH"
      },
      "execution_count": 2,
      "outputs": []
    },
    {
      "cell_type": "markdown",
      "source": [
        "# Дизайн эксперимента 1. \n",
        "## Тестируем две версии сайта https://www.flightradar24.com/\n",
        "1.\t### Гипотеза.\n",
        "Если на стартовую страницу добавить рекламный баннер с предложением узнать номер рейса и маршрут как раз сейчас пролетающего над пользователем самолета простым наведением камеры телефона, это увеличит процент переходов в магазин для скачивания приложения Flightradar (CTR) на 5% и количество установок на клик (CTI) на 2 %, т.к. баннер будет привлекательным для клиента, а предполагаемый опыт достаточно любопытным для того, чтобы его испытать.\n",
        "2.\t### Что делаем.\n",
        "Контрольная версия: оставляем текущий вид страницы.\n",
        "Тестовая версия: добавляем кнопки Download on the App Store и Get it on Google Play на баннер 4 x 6 см с сохранением текущего месторасположения кнопок.\n",
        "3.\t### На каких пользователях тестируем.\n",
        "На всех пользователях.\n",
        "4.\t### Метрики: \n",
        "СTI - primary, CTR - secondary\n",
        "5.\t### План действий.\n",
        "Если наш эксперимент будет положительным и мы зафиксируем ожидаемое улучшение в ключевых метриках, то масштабируем изменение и \"\"выкатываем\"\" его на всех пользователей. \n",
        "Если основные показатели метрик падают либо просто не изменяются, \"\"откатываем\"\" эксперимент."
      ],
      "metadata": {
        "id": "T6kMPrAD6Xw1"
      }
    },
    {
      "cell_type": "code",
      "source": [],
      "metadata": {
        "id": "f0h28ZYT8SAS"
      },
      "execution_count": 2,
      "outputs": []
    },
    {
      "cell_type": "markdown",
      "source": [
        "## CTI\n",
        "---\n",
        "Число установок приложения на количество кликов по рекламному банеру.\n",
        "\n",
        "|                | **Control** | **Test** |\n",
        "|:--------------:|:------------:|:------------:|\n",
        "|   **Traffic_mean**  |     5000     |     5000     |\n",
        "| **downloads/clicks** |      30%     |      31.5%     |"
      ],
      "metadata": {
        "id": "EoDiH9s3E8y-"
      }
    },
    {
      "cell_type": "code",
      "source": [
        "prob_1, prob_2 = 0.3, 0.3 * 1.05\n",
        "traffic_mean = 5_000"
      ],
      "metadata": {
        "id": "KKtWybE4HuvV"
      },
      "execution_count": 19,
      "outputs": []
    },
    {
      "cell_type": "code",
      "source": [
        "#Расчёт effect_size для пропорций\n",
        "\n",
        "def calc_proportion_effect_size(conv_1: int, conv_2: int):\n",
        "    es_formula = 2  * asin(np.sqrt(conv_1)) - 2 * asin(np.sqrt(conv_2))\n",
        "    es_import = proportion_effectsize(conv_1, conv_2)\n",
        "    \n",
        "    return es_formula, es_import"
      ],
      "metadata": {
        "id": "yt5RbJz1JO4G"
      },
      "execution_count": 20,
      "outputs": []
    },
    {
      "cell_type": "code",
      "source": [
        "#Расчёт минимально необходимой выборки * 2(для теста и контроля) для пропорций\n",
        "\n",
        "def calc_sample_size_proportion(effect_size: float,\n",
        "                                alpha: float = .05,\n",
        "                                beta: float = .2,\n",
        "                                ratio: Union[float, int] = 1):\n",
        "    \n",
        "    n = zt_ind_solve_power(effect_size=effect_size,\n",
        "                           alpha=alpha,\n",
        "                           power=(1 - beta),\n",
        "                           ratio=ratio,\n",
        "                  )\n",
        "    return int(n * 2)"
      ],
      "metadata": {
        "id": "Tv9PLkW_JRsS"
      },
      "execution_count": 21,
      "outputs": []
    },
    {
      "cell_type": "code",
      "source": [
        "es = calc_proportion_effect_size(prob_1, prob_2)[0]\n",
        "print(f'Необходимое количество наблюдений для 2-х групп: {calc_sample_size_proportion(es)}\\n'\n",
        "      f'Необходимое количество дней при alpha = 5% и beta = 20%: {round(((calc_sample_size_proportion(es)) / traffic_mean), 2)}')"
      ],
      "metadata": {
        "colab": {
          "base_uri": "https://localhost:8080/"
        },
        "id": "JuoE_JaIJVUR",
        "outputId": "0513d375-d85a-40f0-f226-0afb76f52c0c"
      },
      "execution_count": 26,
      "outputs": [
        {
          "output_type": "stream",
          "name": "stdout",
          "text": [
            "Необходимое количество наблюдений для 2-х групп: 29709\n",
            "Необходимое количество дней при alpha = 5% и beta = 20%: 5.94\n"
          ]
        }
      ]
    },
    {
      "cell_type": "markdown",
      "source": [
        "## CTR\n",
        "Показатель CTR – это отношение числа посетителей страницы, перешедших по рекламе к суммарному числу посетителей за некий определённый период времени.\n",
        "\n",
        "**Метрика пропорциональная.**\n",
        "\n",
        "|                | **Control** | **Test** |\n",
        "|:--------------:|:------------:|:------------:|\n",
        "|   **Traffic_mean**  |     5000     |     5000     |\n",
        "| **clicks/comers** |      14%     |      14.28%     |\n"
      ],
      "metadata": {
        "id": "VFfTAvI7-AMz"
      }
    },
    {
      "cell_type": "code",
      "source": [
        "transs_1, transs_2 = 0.14, 0.14 * 1.02\n",
        "mean_traffic = 5_000"
      ],
      "metadata": {
        "id": "CNMATq83ETCg"
      },
      "execution_count": 24,
      "outputs": []
    },
    {
      "cell_type": "code",
      "source": [
        "e_s = calc_proportion_effect_size(transs_1, transs_2)[0]\n",
        "print(f'Необходимое количество наблюдений для 2-х групп: {calc_sample_size_proportion(e_s)}\\n'\n",
        "      f'Необходимое количество дней при alpha = 5% и beta = 20%: {round(((calc_sample_size_proportion(es)) / mean_traffic), 2)}')"
      ],
      "metadata": {
        "colab": {
          "base_uri": "https://localhost:8080/"
        },
        "id": "yCnCyT3gU3Mz",
        "outputId": "ebf97b7a-876b-4d1d-9e59-abe39e89d8fc"
      },
      "execution_count": 27,
      "outputs": [
        {
          "output_type": "stream",
          "name": "stdout",
          "text": [
            "Необходимое количество наблюдений для 2-х групп: 486162\n",
            "Необходимое количество дней при alpha = 5% и beta = 20%: 5.94\n"
          ]
        }
      ]
    },
    {
      "cell_type": "markdown",
      "source": [
        "---\n",
        "\n",
        "Если наш эксперимент будет положительным, и мы зафиксируем ожидаемое улучшение в CTI и не \"просядет\" CTR, то масштабируем изменение и «выкатываем» его на всех пользователей.\n",
        "\n",
        "Расчетное время проведения эксперимента - 6 дней. Рекомендовано воздержаться от принятия каких либо решений до истечения данной длительности эксперимента во избежание peeking problem."
      ],
      "metadata": {
        "id": "fq__ny6KOdnM"
      }
    },
    {
      "cell_type": "code",
      "source": [],
      "metadata": {
        "id": "YitXHsE5btLI"
      },
      "execution_count": null,
      "outputs": []
    },
    {
      "cell_type": "markdown",
      "source": [
        "# Дизайн эксперимента 2.\n",
        "\n",
        "1.\t### Гипотеза.\n",
        "3. Гипотеза, что, если добавить предупреждение \"You won't be charged after your 7 days trial ends\" к предложению попробовать 7 дневный бесплатный пробный период применительно к любому тарифу-подписке, сам по себе, увеличит метрику ARPPU на 1%, т.к. побудит пользователей свободнее пользоваться всеми бонусами бесплатного периода и испытать на себе все плюсы платной подписки при нулевом риске быть подключенным на платный вариант без согласия пользователя в дальнейшем.\n",
        "2.\t### Что делаем.\n",
        "Контрольная версия: оставляем текущий вид страницы с платными тарифами.\n",
        "Тестовая версия: добавляем предупреждение \"You won't be charged after your 7 days trial ends\" к предложению попробовать 7 дневный бесплатный пробный период применительно к любому тарифу-подписке.\n",
        "3.\t### На каких пользователях тестируем.\n",
        "На всех пользователях.\n",
        "4.\t### Метрики: \n",
        "ARPPU\n",
        "5.\t### План действий.\n",
        "В случае, если показатели ARPPU не просядут, \"выкатываем\" эксперимент на всех пользователей.\n",
        "\n",
        "---\n",
        "\n",
        "ARPPU = Платежи LT/Впервые заплативших LT\n",
        "\n",
        "**Метрика непрерывная.**\n",
        "\n",
        "|                | **Control** | **Test** |\n",
        "|:--------------:|:------------:|:------------:|\n",
        "|   **average**  |     5200     |   5250       |\n",
        "| **SD** |      70     |      80.5    |"
      ],
      "metadata": {
        "id": "tH4uyKyZbti4"
      }
    },
    {
      "cell_type": "code",
      "source": [
        "mu_control, mu_test = 5_200, 5_250\n",
        "std_control, std_test = 3_500, 4_000          # 35, 40\n",
        "mean_traffic = 5_000"
      ],
      "metadata": {
        "id": "zZHKIR1Odrvq"
      },
      "execution_count": 79,
      "outputs": []
    },
    {
      "cell_type": "code",
      "source": [
        "#Расчёт effect_size для непрерывных метрик\n",
        "\n",
        "def calc_continuous_effect_size(mean_1: Union[float, int],\n",
        "                                std_1: Union[float, int],\n",
        "                                mean_2: Union[float, int],\n",
        "                                std_2: Union[float, int]):\n",
        "    \n",
        "    es_formula = (mean_1 - mean_2) / ((std_1**2 + std_2**2) / 2) ** 0.5\n",
        "    \n",
        "    return es_formula"
      ],
      "metadata": {
        "id": "z5ypz0zZQj_-"
      },
      "execution_count": 80,
      "outputs": []
    },
    {
      "cell_type": "code",
      "source": [
        "effect_size = calc_continuous_effect_size(mean_1=mu_control, std_1=std_control, mean_2=mu_test, std_2=std_test)\n",
        "effect_size"
      ],
      "metadata": {
        "colab": {
          "base_uri": "https://localhost:8080/"
        },
        "id": "HyQivZdYRrk2",
        "outputId": "8de59dd2-c903-45a8-a746-34a0c1a882e8"
      },
      "execution_count": 81,
      "outputs": [
        {
          "output_type": "execute_result",
          "data": {
            "text/plain": [
              "-0.013303802104754786"
            ]
          },
          "metadata": {},
          "execution_count": 81
        }
      ]
    },
    {
      "cell_type": "code",
      "source": [
        "# Расчёт минимально необходимой выборки * 2(для теста и контроля) для непрерывной метрики\n",
        "\n",
        "def calc_sample_size_continuous(effect_size: float,\n",
        "                                alpha: float = .05,\n",
        "                                beta: float = .2,\n",
        "                                ratio: Union[float, int] = 1):\n",
        "    \n",
        "    n = tt_ind_solve_power(effect_size=effect_size,\n",
        "                           alpha=alpha,\n",
        "                           power=(1 - beta),\n",
        "                           ratio=ratio,\n",
        "                  )\n",
        "    return int(n * 2)"
      ],
      "metadata": {
        "id": "HF2b15ztO7sZ"
      },
      "execution_count": 82,
      "outputs": []
    },
    {
      "cell_type": "code",
      "source": [
        "sample_size = calc_sample_size_continuous(effect_size=effect_size, alpha=.05, beta=.2)\n",
        "print(f'Необходимое количество наблюдений для 2-х групп: {sample_size}\\n'\n",
        "      f'При тестировании на всех пользователях время, необходимое для проведения теста, составит {(sample_size / mean_traffic)} дней.')"
      ],
      "metadata": {
        "colab": {
          "base_uri": "https://localhost:8080/"
        },
        "id": "nHgV_Cn9S5xM",
        "outputId": "ab83def8-a61b-47f0-bb5f-21cf4c0db8ca"
      },
      "execution_count": 85,
      "outputs": [
        {
          "output_type": "stream",
          "name": "stdout",
          "text": [
            "Необходимое количество наблюдений для 2-х групп: 177386\n",
            "При тестировании на всех пользователях время, необходимое для проведения теста, составит 35.4772 дней.\n"
          ]
        }
      ]
    },
    {
      "cell_type": "code",
      "source": [],
      "metadata": {
        "id": "G-v01aSijKSq"
      },
      "execution_count": null,
      "outputs": []
    }
  ]
}